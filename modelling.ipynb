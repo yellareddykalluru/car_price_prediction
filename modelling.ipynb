{
 "cells": [
  {
   "cell_type": "code",
   "execution_count": 225,
   "metadata": {},
   "outputs": [],
   "source": [
    "import pandas as pd"
   ]
  },
  {
   "cell_type": "code",
   "execution_count": 226,
   "metadata": {},
   "outputs": [],
   "source": [
    "data=pd.read_csv('cars_data.csv')"
   ]
  },
  {
   "cell_type": "code",
   "execution_count": 227,
   "metadata": {},
   "outputs": [
    {
     "name": "stdout",
     "output_type": "stream",
     "text": [
      "<class 'pandas.core.frame.DataFrame'>\n",
      "RangeIndex: 6257 entries, 0 to 6256\n",
      "Data columns (total 14 columns):\n",
      " #   Column          Non-Null Count  Dtype  \n",
      "---  ------          --------------  -----  \n",
      " 0   Exterior color  6257 non-null   object \n",
      " 1   Interior color  6257 non-null   object \n",
      " 2   Drivetrain      6257 non-null   object \n",
      " 3   MPG             5923 non-null   object \n",
      " 4   Fuel type       5923 non-null   object \n",
      " 5   Transmission    6257 non-null   object \n",
      " 6   Engine          6257 non-null   object \n",
      " 7   VIN             6257 non-null   object \n",
      " 8   Stock #         6257 non-null   object \n",
      " 9   Mileage         6257 non-null   object \n",
      " 10  title           6257 non-null   object \n",
      " 11  primaly_price   6257 non-null   float64\n",
      " 12  currency        6257 non-null   object \n",
      " 13  url             6257 non-null   object \n",
      "dtypes: float64(1), object(13)\n",
      "memory usage: 684.5+ KB\n"
     ]
    }
   ],
   "source": [
    "data.info()"
   ]
  },
  {
   "cell_type": "code",
   "execution_count": 228,
   "metadata": {},
   "outputs": [
    {
     "data": {
      "text/plain": [
       "Exterior color      0\n",
       "Interior color      0\n",
       "Drivetrain          0\n",
       "MPG               334\n",
       "Fuel type         334\n",
       "Transmission        0\n",
       "Engine              0\n",
       "VIN                 0\n",
       "Stock #             0\n",
       "Mileage             0\n",
       "title               0\n",
       "primaly_price       0\n",
       "currency            0\n",
       "url                 0\n",
       "dtype: int64"
      ]
     },
     "execution_count": 228,
     "metadata": {},
     "output_type": "execute_result"
    }
   ],
   "source": [
    "data.isnull().sum()"
   ]
  },
  {
   "cell_type": "code",
   "execution_count": 229,
   "metadata": {},
   "outputs": [],
   "source": [
    "data = data.fillna(0)"
   ]
  },
  {
   "cell_type": "code",
   "execution_count": 230,
   "metadata": {},
   "outputs": [
    {
     "data": {
      "text/plain": [
       "array(['Gasoline', 'Hybrid', 'Diesel', 0, 'E85 Flex Fuel', '–',\n",
       "       'Electric Fuel System', 'Gasoline Fuel',\n",
       "       'MHEV (mild hybrid electric vehicle)'], dtype=object)"
      ]
     },
     "execution_count": 230,
     "metadata": {},
     "output_type": "execute_result"
    }
   ],
   "source": [
    "data['Fuel type'].unique()"
   ]
  },
  {
   "cell_type": "code",
   "execution_count": 231,
   "metadata": {},
   "outputs": [],
   "source": [
    "data.drop(columns=['VIN', 'Stock #', 'title', 'currency', 'url'], inplace=True)\n"
   ]
  },
  {
   "cell_type": "code",
   "execution_count": 232,
   "metadata": {},
   "outputs": [
    {
     "name": "stdout",
     "output_type": "stream",
     "text": [
      "<class 'pandas.core.frame.DataFrame'>\n",
      "RangeIndex: 6257 entries, 0 to 6256\n",
      "Data columns (total 9 columns):\n",
      " #   Column          Non-Null Count  Dtype  \n",
      "---  ------          --------------  -----  \n",
      " 0   Exterior color  6257 non-null   object \n",
      " 1   Interior color  6257 non-null   object \n",
      " 2   Drivetrain      6257 non-null   object \n",
      " 3   MPG             6257 non-null   object \n",
      " 4   Fuel type       6257 non-null   object \n",
      " 5   Transmission    6257 non-null   object \n",
      " 6   Engine          6257 non-null   object \n",
      " 7   Mileage         6257 non-null   object \n",
      " 8   primaly_price   6257 non-null   float64\n",
      "dtypes: float64(1), object(8)\n",
      "memory usage: 440.1+ KB\n"
     ]
    }
   ],
   "source": [
    "data.info()"
   ]
  },
  {
   "cell_type": "code",
   "execution_count": 233,
   "metadata": {},
   "outputs": [],
   "source": [
    "# Fill numerical missing values with median\n",
    "data['MPG'] = data['MPG'].fillna(data['MPG'].mode()[0])\n",
    "data['Fuel type'] = data['Fuel type'].fillna(data['Fuel type'].mode()[0])\n"
   ]
  },
  {
   "cell_type": "code",
   "execution_count": 234,
   "metadata": {},
   "outputs": [],
   "source": [
    "from sklearn.preprocessing import LabelEncoder\n",
    "data['Exterior color']=LabelEncoder().fit_transform(data['Exterior color'])"
   ]
  },
  {
   "cell_type": "code",
   "execution_count": 235,
   "metadata": {},
   "outputs": [],
   "source": [
    "from sklearn.preprocessing import LabelEncoder\n",
    "data['Interior color']=LabelEncoder().fit_transform(data['Interior color'])"
   ]
  },
  {
   "cell_type": "code",
   "execution_count": 236,
   "metadata": {},
   "outputs": [],
   "source": [
    "from sklearn.preprocessing import LabelEncoder\n",
    "data['Drivetrain']=LabelEncoder().fit_transform(data['Drivetrain'])"
   ]
  },
  {
   "cell_type": "code",
   "execution_count": 237,
   "metadata": {},
   "outputs": [],
   "source": [
    "from sklearn.preprocessing import LabelEncoder\n",
    "data['Fuel type']=LabelEncoder().fit_transform(data['Fuel type'].astype(str))"
   ]
  },
  {
   "cell_type": "code",
   "execution_count": 238,
   "metadata": {},
   "outputs": [],
   "source": [
    "from sklearn.preprocessing import LabelEncoder\n",
    "data['Transmission']=LabelEncoder().fit_transform(data['Transmission'].astype(str))"
   ]
  },
  {
   "cell_type": "code",
   "execution_count": 239,
   "metadata": {},
   "outputs": [],
   "source": [
    "from sklearn.preprocessing import LabelEncoder\n",
    "data['Engine']=LabelEncoder().fit_transform(data['Engine'].astype(str))"
   ]
  },
  {
   "cell_type": "code",
   "execution_count": 240,
   "metadata": {},
   "outputs": [],
   "source": [
    "from sklearn.preprocessing import LabelEncoder\n",
    "data['Mileage']=LabelEncoder().fit_transform(data['Mileage'].astype(str))"
   ]
  },
  {
   "cell_type": "code",
   "execution_count": 241,
   "metadata": {},
   "outputs": [],
   "source": [
    "data['primaly_price']=data['primaly_price'].astype(int)"
   ]
  },
  {
   "cell_type": "code",
   "execution_count": 242,
   "metadata": {},
   "outputs": [
    {
     "name": "stderr",
     "output_type": "stream",
     "text": [
      "C:\\Users\\yella\\AppData\\Local\\Temp\\ipykernel_14936\\3099304883.py:20: FutureWarning: A value is trying to be set on a copy of a DataFrame or Series through chained assignment using an inplace method.\n",
      "The behavior will change in pandas 3.0. This inplace method will never work because the intermediate object on which we are setting values always behaves as a copy.\n",
      "\n",
      "For example, when doing 'df[col].method(value, inplace=True)', try using 'df.method({col: value}, inplace=True)' or df[col] = df[col].method(value) instead, to perform the operation inplace on the original object.\n",
      "\n",
      "\n",
      "  data['MPG'].fillna(data['MPG'].mean(), inplace=True)\n"
     ]
    }
   ],
   "source": [
    "import numpy as np\n",
    "\n",
    "def clean_mpg(value):\n",
    "    if isinstance(value, str):\n",
    "        if '–' in value:  # Handle range values like '18–23'\n",
    "            parts = value.split('–')\n",
    "            try:\n",
    "                nums = [float(p) for p in parts if p.replace('.', '', 1).isdigit()]\n",
    "                return np.mean(nums) if nums else np.nan\n",
    "            except ValueError:\n",
    "                return np.nan\n",
    "        elif value.replace('.', '', 1).isdigit():  # Single numeric values\n",
    "            return float(value)\n",
    "    return np.nan  # Convert invalid entries to NaN\n",
    "\n",
    "# Apply cleaning function\n",
    "data['MPG'] = data['MPG'].apply(clean_mpg)\n",
    "\n",
    "# Fill NaN values with the mean of valid values\n",
    "data['MPG'].fillna(data['MPG'].mean(), inplace=True)\n",
    "\n",
    "\n"
   ]
  },
  {
   "cell_type": "code",
   "execution_count": 243,
   "metadata": {},
   "outputs": [
    {
     "name": "stdout",
     "output_type": "stream",
     "text": [
      "[22.48552142 20.5        19.5        22.         19.         35.5\n",
      " 23.         16.         29.5        22.5        30.         15.5\n",
      " 26.         20.         21.         28.         94.5        17.5\n",
      " 25.         23.5        32.         24.         21.5        24.5\n",
      " 36.         34.          0.         25.5        38.         29.\n",
      " 12.         47.5        41.5        17.         27.5        18.5\n",
      " 18.         52.         26.5        33.5        15.         27.\n",
      " 38.5        30.5        42.5        76.         43.5        16.5\n",
      " 28.5        12.5        53.5        32.5        36.5        48.\n",
      " 39.5        14.         13.5        13.         31.5        37.\n",
      " 31.         45.5         9.         34.5        42.         33.\n",
      " 35.         54.5        50.5         9.5        14.5         8.\n",
      " 49.5        10.         39.         37.5        44.         48.5\n",
      " 49.         11.         40.         46.5         6.5        43.\n",
      "  7.5       ]\n"
     ]
    },
    {
     "name": "stderr",
     "output_type": "stream",
     "text": [
      "C:\\Users\\yella\\AppData\\Local\\Temp\\ipykernel_14936\\422312289.py:6: FutureWarning: A value is trying to be set on a copy of a DataFrame or Series through chained assignment using an inplace method.\n",
      "The behavior will change in pandas 3.0. This inplace method will never work because the intermediate object on which we are setting values always behaves as a copy.\n",
      "\n",
      "For example, when doing 'df[col].method(value, inplace=True)', try using 'df.method({col: value}, inplace=True)' or df[col] = df[col].method(value) instead, to perform the operation inplace on the original object.\n",
      "\n",
      "\n",
      "  data['MPG'].fillna(mode_value, inplace=True)\n"
     ]
    }
   ],
   "source": [
    "# Import pandas\n",
    "\n",
    "\n",
    "# Replace NaN with mode (most frequent value)\n",
    "mode_value = data['MPG'].mode()[0]  # Get the most frequent value\n",
    "data['MPG'].fillna(mode_value, inplace=True)\n",
    "\n",
    "# Display results\n",
    "print(data['MPG'].unique())\n"
   ]
  },
  {
   "cell_type": "code",
   "execution_count": 244,
   "metadata": {},
   "outputs": [],
   "source": [
    "data['MPG']=data['MPG'].astype(int)"
   ]
  },
  {
   "cell_type": "code",
   "execution_count": 245,
   "metadata": {},
   "outputs": [
    {
     "data": {
      "text/html": [
       "<div>\n",
       "<style scoped>\n",
       "    .dataframe tbody tr th:only-of-type {\n",
       "        vertical-align: middle;\n",
       "    }\n",
       "\n",
       "    .dataframe tbody tr th {\n",
       "        vertical-align: top;\n",
       "    }\n",
       "\n",
       "    .dataframe thead th {\n",
       "        text-align: right;\n",
       "    }\n",
       "</style>\n",
       "<table border=\"1\" class=\"dataframe\">\n",
       "  <thead>\n",
       "    <tr style=\"text-align: right;\">\n",
       "      <th></th>\n",
       "      <th>Exterior color</th>\n",
       "      <th>Interior color</th>\n",
       "      <th>Drivetrain</th>\n",
       "      <th>MPG</th>\n",
       "      <th>Fuel type</th>\n",
       "      <th>Transmission</th>\n",
       "      <th>Engine</th>\n",
       "      <th>Mileage</th>\n",
       "      <th>primaly_price</th>\n",
       "    </tr>\n",
       "  </thead>\n",
       "  <tbody>\n",
       "    <tr>\n",
       "      <th>0</th>\n",
       "      <td>876</td>\n",
       "      <td>210</td>\n",
       "      <td>4</td>\n",
       "      <td>22</td>\n",
       "      <td>4</td>\n",
       "      <td>36</td>\n",
       "      <td>316</td>\n",
       "      <td>1596</td>\n",
       "      <td>106608</td>\n",
       "    </tr>\n",
       "    <tr>\n",
       "      <th>1</th>\n",
       "      <td>416</td>\n",
       "      <td>210</td>\n",
       "      <td>4</td>\n",
       "      <td>20</td>\n",
       "      <td>4</td>\n",
       "      <td>50</td>\n",
       "      <td>165</td>\n",
       "      <td>2628</td>\n",
       "      <td>80480</td>\n",
       "    </tr>\n",
       "    <tr>\n",
       "      <th>2</th>\n",
       "      <td>1007</td>\n",
       "      <td>488</td>\n",
       "      <td>2</td>\n",
       "      <td>19</td>\n",
       "      <td>4</td>\n",
       "      <td>36</td>\n",
       "      <td>167</td>\n",
       "      <td>931</td>\n",
       "      <td>101795</td>\n",
       "    </tr>\n",
       "    <tr>\n",
       "      <th>3</th>\n",
       "      <td>781</td>\n",
       "      <td>353</td>\n",
       "      <td>2</td>\n",
       "      <td>22</td>\n",
       "      <td>4</td>\n",
       "      <td>44</td>\n",
       "      <td>62</td>\n",
       "      <td>1246</td>\n",
       "      <td>62990</td>\n",
       "    </tr>\n",
       "    <tr>\n",
       "      <th>4</th>\n",
       "      <td>159</td>\n",
       "      <td>47</td>\n",
       "      <td>4</td>\n",
       "      <td>20</td>\n",
       "      <td>6</td>\n",
       "      <td>2</td>\n",
       "      <td>201</td>\n",
       "      <td>2937</td>\n",
       "      <td>70912</td>\n",
       "    </tr>\n",
       "    <tr>\n",
       "      <th>...</th>\n",
       "      <td>...</td>\n",
       "      <td>...</td>\n",
       "      <td>...</td>\n",
       "      <td>...</td>\n",
       "      <td>...</td>\n",
       "      <td>...</td>\n",
       "      <td>...</td>\n",
       "      <td>...</td>\n",
       "      <td>...</td>\n",
       "    </tr>\n",
       "    <tr>\n",
       "      <th>6252</th>\n",
       "      <td>896</td>\n",
       "      <td>47</td>\n",
       "      <td>2</td>\n",
       "      <td>24</td>\n",
       "      <td>4</td>\n",
       "      <td>44</td>\n",
       "      <td>165</td>\n",
       "      <td>2785</td>\n",
       "      <td>130115</td>\n",
       "    </tr>\n",
       "    <tr>\n",
       "      <th>6253</th>\n",
       "      <td>1087</td>\n",
       "      <td>195</td>\n",
       "      <td>4</td>\n",
       "      <td>16</td>\n",
       "      <td>4</td>\n",
       "      <td>2</td>\n",
       "      <td>375</td>\n",
       "      <td>1922</td>\n",
       "      <td>86035</td>\n",
       "    </tr>\n",
       "    <tr>\n",
       "      <th>6254</th>\n",
       "      <td>90</td>\n",
       "      <td>47</td>\n",
       "      <td>0</td>\n",
       "      <td>16</td>\n",
       "      <td>4</td>\n",
       "      <td>2</td>\n",
       "      <td>229</td>\n",
       "      <td>0</td>\n",
       "      <td>87290</td>\n",
       "    </tr>\n",
       "    <tr>\n",
       "      <th>6255</th>\n",
       "      <td>530</td>\n",
       "      <td>363</td>\n",
       "      <td>4</td>\n",
       "      <td>0</td>\n",
       "      <td>1</td>\n",
       "      <td>50</td>\n",
       "      <td>412</td>\n",
       "      <td>2377</td>\n",
       "      <td>35995</td>\n",
       "    </tr>\n",
       "    <tr>\n",
       "      <th>6256</th>\n",
       "      <td>953</td>\n",
       "      <td>47</td>\n",
       "      <td>2</td>\n",
       "      <td>24</td>\n",
       "      <td>4</td>\n",
       "      <td>16</td>\n",
       "      <td>120</td>\n",
       "      <td>1982</td>\n",
       "      <td>22990</td>\n",
       "    </tr>\n",
       "  </tbody>\n",
       "</table>\n",
       "<p>6257 rows × 9 columns</p>\n",
       "</div>"
      ],
      "text/plain": [
       "      Exterior color  Interior color  Drivetrain  MPG  Fuel type  \\\n",
       "0                876             210           4   22          4   \n",
       "1                416             210           4   20          4   \n",
       "2               1007             488           2   19          4   \n",
       "3                781             353           2   22          4   \n",
       "4                159              47           4   20          6   \n",
       "...              ...             ...         ...  ...        ...   \n",
       "6252             896              47           2   24          4   \n",
       "6253            1087             195           4   16          4   \n",
       "6254              90              47           0   16          4   \n",
       "6255             530             363           4    0          1   \n",
       "6256             953              47           2   24          4   \n",
       "\n",
       "      Transmission  Engine  Mileage  primaly_price  \n",
       "0               36     316     1596         106608  \n",
       "1               50     165     2628          80480  \n",
       "2               36     167      931         101795  \n",
       "3               44      62     1246          62990  \n",
       "4                2     201     2937          70912  \n",
       "...            ...     ...      ...            ...  \n",
       "6252            44     165     2785         130115  \n",
       "6253             2     375     1922          86035  \n",
       "6254             2     229        0          87290  \n",
       "6255            50     412     2377          35995  \n",
       "6256            16     120     1982          22990  \n",
       "\n",
       "[6257 rows x 9 columns]"
      ]
     },
     "execution_count": 245,
     "metadata": {},
     "output_type": "execute_result"
    }
   ],
   "source": [
    "data"
   ]
  },
  {
   "cell_type": "code",
   "execution_count": 246,
   "metadata": {},
   "outputs": [
    {
     "name": "stdout",
     "output_type": "stream",
     "text": [
      "<class 'pandas.core.frame.DataFrame'>\n",
      "RangeIndex: 6257 entries, 0 to 6256\n",
      "Data columns (total 9 columns):\n",
      " #   Column          Non-Null Count  Dtype\n",
      "---  ------          --------------  -----\n",
      " 0   Exterior color  6257 non-null   int64\n",
      " 1   Interior color  6257 non-null   int64\n",
      " 2   Drivetrain      6257 non-null   int64\n",
      " 3   MPG             6257 non-null   int64\n",
      " 4   Fuel type       6257 non-null   int64\n",
      " 5   Transmission    6257 non-null   int64\n",
      " 6   Engine          6257 non-null   int64\n",
      " 7   Mileage         6257 non-null   int64\n",
      " 8   primaly_price   6257 non-null   int64\n",
      "dtypes: int64(9)\n",
      "memory usage: 440.1 KB\n"
     ]
    }
   ],
   "source": [
    "data.info()"
   ]
  },
  {
   "cell_type": "code",
   "execution_count": 247,
   "metadata": {},
   "outputs": [
    {
     "name": "stdout",
     "output_type": "stream",
     "text": [
      "<class 'pandas.core.frame.DataFrame'>\n",
      "RangeIndex: 6257 entries, 0 to 6256\n",
      "Data columns (total 9 columns):\n",
      " #   Column          Non-Null Count  Dtype\n",
      "---  ------          --------------  -----\n",
      " 0   Exterior color  6257 non-null   int64\n",
      " 1   Interior color  6257 non-null   int64\n",
      " 2   Drivetrain      6257 non-null   int64\n",
      " 3   MPG             6257 non-null   int64\n",
      " 4   Fuel type       6257 non-null   int64\n",
      " 5   Transmission    6257 non-null   int64\n",
      " 6   Engine          6257 non-null   int64\n",
      " 7   Mileage         6257 non-null   int64\n",
      " 8   primaly_price   6257 non-null   int64\n",
      "dtypes: int64(9)\n",
      "memory usage: 440.1 KB\n"
     ]
    }
   ],
   "source": [
    "data.info()"
   ]
  },
  {
   "cell_type": "code",
   "execution_count": 248,
   "metadata": {},
   "outputs": [
    {
     "name": "stdout",
     "output_type": "stream",
     "text": [
      "   Exterior color  Interior color  Drivetrain  MPG  Fuel type  Transmission  \\\n",
      "0             876             210           4   22          4            36   \n",
      "1             416             210           4   20          4            50   \n",
      "2            1007             488           2   19          4            36   \n",
      "3             781             353           2   22          4            44   \n",
      "4             159              47           4   20          6             2   \n",
      "\n",
      "   Engine  Mileage  primaly_price  \n",
      "0     316     1596         106608  \n",
      "1     165     2628          80480  \n",
      "2     167      931         101795  \n",
      "3      62     1246          62990  \n",
      "4     201     2937          70912  \n",
      "Mean Absolute Error: 13549.04\n",
      "Mean Squared Error: 491313024.00\n",
      "R² Score: 0.63\n",
      "Predicted Price: $50787.68\n"
     ]
    }
   ],
   "source": [
    "import pandas as pd\n",
    "import xgboost as xgb\n",
    "from sklearn.model_selection import train_test_split\n",
    "from sklearn.metrics import mean_absolute_error, mean_squared_error, r2_score\n",
    "\n",
    "\n",
    "\n",
    "# Display first few rows\n",
    "print(data.head())\n",
    "\n",
    "# Define features (X) and target variable (y)\n",
    "X = data[['Exterior color', 'Interior color', 'Drivetrain', 'MPG', 'Fuel type', \n",
    "        'Transmission', 'Engine', 'Mileage']]\n",
    "y = data['primaly_price']\n",
    "\n",
    "# Split into training & testing sets\n",
    "X_train, X_test, y_train, y_test = train_test_split(X, y, test_size=0.2, random_state=42)\n",
    "\n",
    "# Initialize XGBoost regressor\n",
    "model = xgb.XGBRegressor(\n",
    "    n_estimators=200, \n",
    "    learning_rate=0.05, \n",
    "    max_depth=6, \n",
    "    objective='reg:squarederror', \n",
    "    random_state=42\n",
    ")\n",
    "\n",
    "# Train the model\n",
    "model.fit(X_train, y_train)\n",
    "\n",
    "# Predict on test data\n",
    "y_pred = model.predict(X_test)\n",
    "\n",
    "# Evaluate model performance\n",
    "mae = mean_absolute_error(y_test, y_pred)\n",
    "mse = mean_squared_error(y_test, y_pred)\n",
    "r2 = r2_score(y_test, y_pred)\n",
    "\n",
    "print(f\"Mean Absolute Error: {mae:.2f}\")\n",
    "print(f\"Mean Squared Error: {mse:.2f}\")\n",
    "print(f\"R² Score: {r2:.2f}\")\n",
    "\n",
    "# Predict a new car's price (Example)\n",
    "new_car = pd.DataFrame([[2, 1, 0, 25.0, 1, 0, 3, 50000]], \n",
    "                       columns=['Exterior color', 'Interior color', 'Drivetrain', 'MPG', \n",
    "                                'Fuel type', 'Transmission', 'Engine', 'Mileage'])\n",
    "\n",
    "predicted_price = model.predict(new_car)\n",
    "print(f\"Predicted Price: ${predicted_price[0]:.2f}\")\n"
   ]
  },
  {
   "cell_type": "code",
   "execution_count": null,
   "metadata": {},
   "outputs": [],
   "source": []
  },
  {
   "cell_type": "code",
   "execution_count": null,
   "metadata": {},
   "outputs": [],
   "source": []
  },
  {
   "cell_type": "code",
   "execution_count": null,
   "metadata": {},
   "outputs": [],
   "source": []
  },
  {
   "cell_type": "code",
   "execution_count": null,
   "metadata": {},
   "outputs": [],
   "source": []
  },
  {
   "cell_type": "code",
   "execution_count": null,
   "metadata": {},
   "outputs": [],
   "source": []
  },
  {
   "cell_type": "code",
   "execution_count": null,
   "metadata": {},
   "outputs": [],
   "source": []
  },
  {
   "cell_type": "code",
   "execution_count": null,
   "metadata": {},
   "outputs": [],
   "source": []
  },
  {
   "cell_type": "code",
   "execution_count": null,
   "metadata": {},
   "outputs": [],
   "source": []
  }
 ],
 "metadata": {
  "kernelspec": {
   "display_name": "Python 3",
   "language": "python",
   "name": "python3"
  },
  "language_info": {
   "codemirror_mode": {
    "name": "ipython",
    "version": 3
   },
   "file_extension": ".py",
   "mimetype": "text/x-python",
   "name": "python",
   "nbconvert_exporter": "python",
   "pygments_lexer": "ipython3",
   "version": "3.10.11"
  }
 },
 "nbformat": 4,
 "nbformat_minor": 2
}
